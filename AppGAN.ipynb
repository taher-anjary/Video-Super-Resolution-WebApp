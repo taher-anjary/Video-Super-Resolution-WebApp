{
  "nbformat": 4,
  "nbformat_minor": 0,
  "metadata": {
    "colab": {
      "name": "AppGAN.ipynb",
      "provenance": [],
      "collapsed_sections": [],
      "authorship_tag": "ABX9TyPbWrOug3ELuF8Gz3/pFW/D",
      "include_colab_link": true
    },
    "kernelspec": {
      "display_name": "Python 3",
      "name": "python3"
    },
    "accelerator": "GPU"
  },
  "cells": [
    {
      "cell_type": "markdown",
      "metadata": {
        "id": "view-in-github",
        "colab_type": "text"
      },
      "source": [
        "<a href=\"https://colab.research.google.com/github/taheranjary/AppGAN/blob/main/AppGAN.ipynb\" target=\"_parent\"><img src=\"https://colab.research.google.com/assets/colab-badge.svg\" alt=\"Open In Colab\"/></a>"
      ]
    },
    {
      "cell_type": "markdown",
      "metadata": {
        "id": "5CmQ9tnYr06R"
      },
      "source": [
        "# **Welcome to TecoGAN, an AI that will quadruple your video resolution using state of the art Generative-Adversarial-Networks.**\n",
        "\n",
        "**Step 1:** \n",
        "\n",
        "Go to Edit>Notebook settings and make sure you have selected the run time as GPU. Click 'Save'\n",
        " \n",
        " \n",
        "**Step 2:**\n",
        "\n",
        "Run each code cell block below one by one, making sure that each completes before running the next one. The 'run' icon will appear if you hover your mouse over the very top-left corner of each code cell.\n",
        "\n",
        "When you run the code cell with the command ***runMe()***, an upload prompt will appear asking you to upload the video you want to enhance. Go ahead and browse to the desired video from your PC and let the AI do its work. After completing the conversion, your enhanced video will automatically download. Note that your orginal and enhanced video file will be deleted from COLAB servers automatically. Do not worry.\n",
        "\n",
        "You may close this tab once you are done.\n",
        "\n",
        "**PS:**\n",
        "\n",
        "If you want to convert more videos, just run the ***runME()** code cell again AFTER the previous conversion has completed and your file has been downloaded\n",
        "\n",
        "\n",
        "**References**\n",
        "\n",
        "[1]  Mengyu Chu, You Xie, Laura Leal-Taixe, Nils Thuerey. Learning Temporal Coherence via Self-Supervision for GAN-based\n",
        "Video Generation. Technical University of Munich, 2020. https://arxiv.org/pdf/1811.09393.pdf\n",
        "\n",
        "I take no credit for their work aside from tweaking their code to make it easier for others to use.\n"
      ]
    },
    {
      "cell_type": "code",
      "metadata": {
        "id": "nTe1emwkDJXP"
      },
      "source": [
        "from google.colab import files\n",
        "import os\n",
        "import time\n",
        "\n",
        "filename = 'xxx'\n",
        "\n",
        "!nvidia-smi\n",
        "!git clone https://github.com/thunil/TecoGAN.git\n",
        "%cd TecoGAN\n",
        "!pip3 install -r requirements.txt\n",
        "!mkdir /content/TecoGAN/LR/My_video\n",
        "%cd /content/TecoGAN"
      ],
      "execution_count": null,
      "outputs": []
    },
    {
      "cell_type": "code",
      "metadata": {
        "colab": {
          "base_uri": "https://localhost:8080/"
        },
        "id": "-vuaUMyHIZDb",
        "outputId": "78c2a61d-1086-45b7-e996-ea99a96f676a"
      },
      "source": [
        "%%writefile runGan.py\n",
        "'''\n",
        "several running examples, run with\n",
        "python3 runGan.py 1 # the last number is the run case number\n",
        "runcase == 1    inference a trained model\n",
        "runcase == 2    deleted\n",
        "runcase == 3    deleted\n",
        "runcase == 4    deleted\n",
        "runcase == ...  \n",
        "'''\n",
        "import os, subprocess, sys, datetime, signal, shutil\n",
        "\n",
        "runcase = int(sys.argv[1])\n",
        "print (\"Testing test case %d\" % runcase)\n",
        "\n",
        "def preexec(): # Don't forward signals.\n",
        "    os.setpgrp()\n",
        "    \n",
        "def mycall(cmd, block=False):\n",
        "    if not block:\n",
        "        return subprocess.Popen(cmd)\n",
        "    else:\n",
        "        return subprocess.Popen(cmd, preexec_fn = preexec)\n",
        "    \n",
        "def folder_check(path):\n",
        "    try_num = 1\n",
        "    oripath = path[:-1] if path.endswith('/') else path\n",
        "    while os.path.exists(path):\n",
        "        print(\"Delete existing folder \" + path + \"?(Y/N)\")\n",
        "        decision = input()\n",
        "        if decision == \"Y\":\n",
        "            shutil.rmtree(path, ignore_errors=True)\n",
        "            break\n",
        "        else:\n",
        "            path = oripath + \"_%d/\"%try_num\n",
        "            try_num += 1\n",
        "            print(path)\n",
        "    \n",
        "    return path\n",
        "\n",
        "if( runcase == 0 ): # download inference data, trained models\n",
        "    # download the trained model\n",
        "    if(not os.path.exists(\"./model/\")): os.mkdir(\"./model/\")\n",
        "    cmd1 = \"wget https://ge.in.tum.de/download/data/TecoGAN/model.zip -O model/model.zip;\"\n",
        "    cmd1 += \"unzip model/model.zip -d model; rm model/model.zip\"\n",
        "    subprocess.call(cmd1, shell=True)\n",
        "    \n",
        "elif( runcase == 1 ): # inference a trained model\n",
        "    \n",
        "    dirstr = './results/' # the place to save the results\n",
        "    testpre = ['My_video'] # the test cases\n",
        "    \n",
        "\n",
        "    if (not os.path.exists(dirstr)): os.mkdir(dirstr)\n",
        "    \n",
        "    # run these test cases one by one:\n",
        "    for nn in range(len(testpre)):\n",
        "        cmd1 = [\"python3\", \"main.py\",\n",
        "            \"--cudaID\", \"0\",            # set the cudaID here to use only one GPU\n",
        "            \"--output_dir\",  dirstr,    # Set the place to put the results.\n",
        "            \"--summary_dir\", os.path.join(dirstr, 'log/'), # Set the place to put the log. \n",
        "            \"--mode\",\"inference\", \n",
        "            \"--input_dir_LR\", os.path.join(\"./LR/\", testpre[nn]),   # the LR directory \n",
        "            #\"--input_dir_HR\", os.path.join(\"./HR/\", testpre[nn]),  # the HR directory\n",
        "            # one of (input_dir_HR,input_dir_LR) should be given\n",
        "            \"--output_pre\", testpre[nn], # the subfolder to save current scene, optional\n",
        "            \"--num_resblock\", \"16\",  # our model has 16 residual blocks, \n",
        "            # the pre-trained FRVSR and TecoGAN mini have 10 residual blocks\n",
        "            \"--checkpoint\", './model/TecoGAN',  # the path of the trained model,\n",
        "            \"--output_ext\", \"png\"               # png is more accurate, jpg is smaller\n",
        "        ]\n",
        "        mycall(cmd1).communicate()\n",
        "\n",
        "elif( runcase == 2 ): # calculate all metrics, and save the csv files, should use png\n",
        "    print('nunya')\n",
        "    \n",
        "elif( runcase == 3 ): # Train TecoGAN\n",
        "    print('nunya')      \n",
        "        \n",
        "elif( runcase == 4 ): # Train FRVSR, loss = l2 warp + l2 content\n",
        "    print('nunya')"
      ],
      "execution_count": null,
      "outputs": [
        {
          "output_type": "stream",
          "text": [
            "Overwriting runGan.py\n"
          ],
          "name": "stdout"
        }
      ]
    },
    {
      "cell_type": "code",
      "metadata": {
        "id": "7ScI5sbVw-Nz"
      },
      "source": [
        ""
      ],
      "execution_count": null,
      "outputs": []
    },
    {
      "cell_type": "code",
      "metadata": {
        "id": "6XnRYWp1It0B"
      },
      "source": [
        "!python3 runGan.py 0\n",
        "\n",
        "def clear_reset():\n",
        "  global filename\n",
        "  %cd /content/sample_data\n",
        "  if os.path.exists(filename):\n",
        "    print('\\n\\nCUE deletion condition met\\n\\n')\n",
        "    # Delete Content to reset\n",
        "    # LR frames\n",
        "    %cd /content/TecoGAN/LR\n",
        "    !rm -rf My_video\n",
        "    !mkdir /content/TecoGAN/LR/My_video\n",
        "\n",
        "    # results HR frames\n",
        "    %cd /content/TecoGAN/results\n",
        "    !rm -rf My_video\n",
        "    !mkdir /content/TecoGAN/results/My_video\n",
        "\n",
        "    #orignal video input\n",
        "    %cd /content/sample_data/\n",
        "    cmdovi = 'rm ' + filename\n",
        "    os.system(cmdovi)\n",
        "\n",
        "    #final video output\n",
        "    %cd /content/TecoGAN\n",
        "    !rm output4R.mp4\n",
        "  else:\n",
        "    print('\\n\\nCUE Deletion conition not met\\n\\n')\n",
        "\n",
        "\n",
        "def infer():\n",
        "  global filename\n",
        "\n",
        "  # Upload Video Prompt\n",
        "  %cd /content/sample_data\n",
        "  uploaded = files.upload()\n",
        "\n",
        "  # extract and save LR frames\n",
        "  filename = next(iter(uploaded))\n",
        "  cmdf = 'ffmpeg -i /content/sample_data/' + filename + ' %04d.png'\n",
        "  %cd /content/TecoGAN/LR/My_video\n",
        "  #!ffmpeg  -i /content/sample_data/slowmfirewire.MOV %04d.png\n",
        "  os.system(cmdf)\n",
        "\n",
        "  # TecoGAN generate and save HR frames\n",
        "  %cd /content/TecoGAN\n",
        "  %tensorflow_version 1.x\n",
        "  !python3 runGan.py 1\n",
        "\n",
        "  # convert HR frames to mp4 file\n",
        "  #!ffmpeg -vsync 0 -hwaccel cuvid -c:v mjpeg_cuvid -framerate 24.00 -i /content/TecoGAN/results/My_video/*.png -c:v h264_nvenc quaid2.mp4\n",
        "  !ffmpeg -f image2 -framerate 30 -i /content/TecoGAN/results/My_video/output_%04d.png -c:v h264_nvenc -preset slow -qp 18 -pix_fmt yuv420p output4R.mp4\n",
        "\n",
        "  # Download HR mp4 File\n",
        "  %cd /content/TecoGAN\n",
        "  files.download('output4R.mp4')\n",
        "\n",
        "def runMe():\n",
        "  clear_reset()\n",
        "  infer()"
      ],
      "execution_count": null,
      "outputs": []
    },
    {
      "cell_type": "code",
      "metadata": {
        "id": "V1OooowbLi4U"
      },
      "source": [
        "runMe()"
      ],
      "execution_count": null,
      "outputs": []
    },
    {
      "cell_type": "code",
      "metadata": {
        "id": "sNSsN5zkFuEz"
      },
      "source": [
        "# %cd /content\n",
        "# !rm -rf TecoGAN"
      ],
      "execution_count": null,
      "outputs": []
    },
    {
      "cell_type": "code",
      "metadata": {
        "id": "iEDJpzspwyAk"
      },
      "source": [
        "#%cd /content/TecoGAN"
      ],
      "execution_count": null,
      "outputs": []
    }
  ]
}